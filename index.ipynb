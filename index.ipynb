{
 "cells": [
  {
   "cell_type": "markdown",
   "metadata": {},
   "source": [
    "Integer tutorials:\n",
    "\n",
    "1. [Integer basics](./integer/00_basics.ipynb)\n",
    "1. [Integer formatted output](./integer/01_formatted_output.ipynb)\n",
    "1. [Integer arithmetic](./integer/02_arithmetic.ipynb)\n",
    "1. [Integer comparison](./integer/03_comparison.ipynb)\n",
    "1. [Integer logic and bit fiddling](./integer/04_bit_fiddling.ipynb)"
   ]
  }
 ],
 "metadata": {
  "kernelspec": {
   "display_name": "C++17",
   "language": "C++17",
   "name": "xcpp17"
  },
  "language_info": {
   "codemirror_mode": "text/x-c++src",
   "file_extension": ".cpp",
   "mimetype": "text/x-c++src",
   "name": "c++",
   "version": "17"
  }
 },
 "nbformat": 4,
 "nbformat_minor": 4
}
