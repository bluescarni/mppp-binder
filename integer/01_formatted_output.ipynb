{
 "cells": [
  {
   "cell_type": "markdown",
   "metadata": {},
   "source": [
    "# Integer formatted output\n",
    "## Preliminaries\n",
    "\n",
    "Let's load the mp++ runtime, include the headers and import the user-defined literals:"
   ]
  },
  {
   "cell_type": "code",
   "execution_count": null,
   "metadata": {},
   "outputs": [],
   "source": [
    "#pragma cling add_include_path(\"/srv/conda/envs/notebook/include\")\n",
    "#pragma cling add_library_path(\"/srv/conda/envs/notebook/lib\")\n",
    "#pragma cling load(\"mp++\")\n",
    "\n",
    "#include <mp++/integer.hpp>\n",
    "#include <mp++/exceptions.hpp>\n",
    "\n",
    "using namespace mppp::literals;\n",
    "using int_t = mppp::integer<1>;"
   ]
  },
  {
   "cell_type": "markdown",
   "metadata": {},
   "source": [
    "Let's also include a few useful bits from the standard library:"
   ]
  },
  {
   "cell_type": "code",
   "execution_count": null,
   "metadata": {},
   "outputs": [],
   "source": [
    "#include <iomanip>\n",
    "#include <ios>\n",
    "#include <iostream>\n",
    "#include <sstream>"
   ]
  },
  {
   "cell_type": "markdown",
   "metadata": {},
   "source": [
    "## String conversions\n",
    "Multiprecision integers can be converted to string via the ``to_string()`` member function. By default, a base-10 representation is produced:"
   ]
  },
  {
   "cell_type": "code",
   "execution_count": null,
   "metadata": {},
   "outputs": [],
   "source": [
    "(1123_z1).to_string()"
   ]
  },
  {
   "cell_type": "markdown",
   "metadata": {},
   "source": [
    "But bases from 2 to 62 are supported as well:"
   ]
  },
  {
   "cell_type": "code",
   "execution_count": null,
   "metadata": {},
   "outputs": [],
   "source": [
    "(1123_z1).to_string(2)"
   ]
  },
  {
   "cell_type": "code",
   "execution_count": null,
   "metadata": {},
   "outputs": [],
   "source": [
    "(1123_z1).to_string(16)"
   ]
  },
  {
   "cell_type": "code",
   "execution_count": null,
   "metadata": {},
   "outputs": [],
   "source": [
    "(1123_z1).to_string(45)"
   ]
  },
  {
   "cell_type": "code",
   "execution_count": null,
   "metadata": {},
   "outputs": [],
   "source": [
    "(1123_z1).to_string(62)"
   ]
  },
  {
   "cell_type": "markdown",
   "metadata": {},
   "source": [
    "The string representations are always exact - that is, it is always possible to re-convert the string back to the original value exactly:"
   ]
  },
  {
   "cell_type": "code",
   "execution_count": null,
   "metadata": {},
   "outputs": [],
   "source": [
    "int_t{(1123_z1).to_string()}"
   ]
  },
  {
   "cell_type": "code",
   "execution_count": null,
   "metadata": {},
   "outputs": [],
   "source": [
    "int_t{(1123_z1).to_string(2), 2}"
   ]
  },
  {
   "cell_type": "code",
   "execution_count": null,
   "metadata": {},
   "outputs": [],
   "source": [
    "int_t{(1123_z1).to_string(45), 45}"
   ]
  },
  {
   "cell_type": "markdown",
   "metadata": {},
   "source": [
    "## Formatted stream output\n",
    "Multiprecision integers will respect the format flags in output streams:"
   ]
  },
  {
   "cell_type": "code",
   "execution_count": null,
   "metadata": {},
   "outputs": [],
   "source": [
    "{\n",
    "    std::ostringstream oss;\n",
    "    oss << \"Default format: \" << 123456_z1;\n",
    "    std::cout << oss.str();\n",
    "}"
   ]
  },
  {
   "cell_type": "markdown",
   "metadata": {},
   "source": [
    "Different bases:"
   ]
  },
  {
   "cell_type": "code",
   "execution_count": null,
   "metadata": {},
   "outputs": [],
   "source": [
    "{\n",
    "    std::ostringstream oss;\n",
    "    oss << \"Base 16            : \" << std::setbase(16) << 123456_z1 << '\\n';\n",
    "    oss << \"Base  8            : \" << std::setbase(8) << 123456_z1 << '\\n';\n",
    "    oss << \"Base 16 with prefix: \" << std::showbase << std::setbase(16) << 123456_z1 << '\\n';\n",
    "    oss << \"Base  8 with prefix: \" << std::setbase(8) << 123456_z1 << '\\n';\n",
    "    oss << \"Base 16 uppercase  : \" << std::showbase << std::uppercase << std::setbase(16) << 123456_z1 << '\\n';\n",
    "    std::cout << oss.str();\n",
    "}"
   ]
  },
  {
   "cell_type": "markdown",
   "metadata": {},
   "source": [
    "Other formatting options:"
   ]
  },
  {
   "cell_type": "code",
   "execution_count": null,
   "metadata": {},
   "outputs": [],
   "source": [
    "{\n",
    "    std::ostringstream oss;\n",
    "    oss << \"Force '+' sign    : \" << std::showpos << 123456_z1 << '\\n';\n",
    "    oss << \"Field witdh       : \" << std::noshowpos << std::setw(20) << 123456_z1 << '\\n';\n",
    "    oss << \"Fill characters   : \" << std::setw(20) << std::setfill('*') << 123456_z1 << '\\n';\n",
    "    oss << \"Align left        : \" << std::setw(20) << std::setfill('*') << std::left << 123456_z1 << '\\n';\n",
    "    oss << \"Internal alignment: \" << std::setw(20) << std::setfill('*') << std::internal << 123456_z1 << '\\n';\n",
    "    std::cout << oss.str();\n",
    "}"
   ]
  }
 ],
 "metadata": {
  "kernelspec": {
   "display_name": "C++17",
   "language": "C++17",
   "name": "xcpp17"
  },
  "language_info": {
   "codemirror_mode": "text/x-c++src",
   "file_extension": ".cpp",
   "mimetype": "text/x-c++src",
   "name": "c++",
   "version": "17"
  }
 },
 "nbformat": 4,
 "nbformat_minor": 4
}
