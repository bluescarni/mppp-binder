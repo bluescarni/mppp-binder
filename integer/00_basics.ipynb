{
 "cells": [
  {
   "cell_type": "markdown",
   "metadata": {},
   "source": [
    "# Integer basics\n",
    "## Preliminaries\n",
    "\n",
    "Let's load the mp++ runtime, include the ``integer.hpp`` header and add a couple of ``using`` directives to reduce typing:"
   ]
  },
  {
   "cell_type": "code",
   "execution_count": null,
   "metadata": {},
   "outputs": [],
   "source": [
    "#pragma cling add_include_path(\"/srv/conda/envs/notebook/include\")\n",
    "#pragma cling add_library_path(\"/srv/conda/envs/notebook/lib\")\n",
    "#pragma cling load(\"mp++\")\n",
    "\n",
    "#include <mp++/integer.hpp>\n",
    "\n",
    "using namespace mppp::literals;\n",
    "// We will be working with integers with 1\n",
    "// limb of static storage.\n",
    "using int_t = mppp::integer<1>;"
   ]
  },
  {
   "cell_type": "markdown",
   "metadata": {},
   "source": [
    "Let's also include a few useful bits from the standard library:"
   ]
  },
  {
   "cell_type": "code",
   "execution_count": null,
   "metadata": {},
   "outputs": [],
   "source": [
    "#include <ios>\n",
    "#include <iostream>\n",
    "#include <stdexcept>\n",
    "#include <string>\n",
    "#include <string_view>\n",
    "\n",
    "using namespace std::literals;"
   ]
  },
  {
   "cell_type": "markdown",
   "metadata": {},
   "source": [
    "## Constructing multiprecision integers\n",
    "\n",
    "There are many ways to construct multiprecision integers. Default-construction initialises to zero:"
   ]
  },
  {
   "cell_type": "code",
   "execution_count": null,
   "metadata": {},
   "outputs": [],
   "source": [
    "{\n",
    "    int_t n;\n",
    "    std::cout << \"A default-constructed integer is \" << n << '\\n';\n",
    "}"
   ]
  },
  {
   "cell_type": "markdown",
   "metadata": {},
   "source": [
    "We can construct from fundamental C++ types:"
   ]
  },
  {
   "cell_type": "code",
   "execution_count": null,
   "metadata": {},
   "outputs": [],
   "source": [
    "int_t{42}"
   ]
  },
  {
   "cell_type": "code",
   "execution_count": null,
   "metadata": {},
   "outputs": [],
   "source": [
    "int_t{-123.456} // Construction from floating-point types truncates"
   ]
  },
  {
   "cell_type": "markdown",
   "metadata": {},
   "source": [
    "> **NOTE**: all constructors, apart from the default, copy and move constructors, are ``explicit``, thus syntax such as\n",
    ">\n",
    "> ```c++\n",
    "> int_t n = 5;\n",
    "> ```\n",
    ">\n",
    "> will **not** work. Use direct initialisation instead:\n",
    ">\n",
    "> ```c++\n",
    "> int_t n{5};\n",
    "> ```\n",
    ">\n",
    "> Or ``auto`` (Python-style):\n",
    ">\n",
    "> ```c++\n",
    "> auto n = int_t{5};\n",
    "> ```\n",
    "\n",
    "We can construct from string-like types (including ``char[]``, ``std::string`` and ``std::string_view``):"
   ]
  },
  {
   "cell_type": "code",
   "execution_count": null,
   "metadata": {},
   "outputs": [],
   "source": [
    "int_t{\"-44939921\"}"
   ]
  },
  {
   "cell_type": "code",
   "execution_count": null,
   "metadata": {},
   "outputs": [],
   "source": [
    "int_t{\"77\"s}"
   ]
  },
  {
   "cell_type": "code",
   "execution_count": null,
   "metadata": {},
   "outputs": [],
   "source": [
    "int_t{\"-44\"sv}"
   ]
  },
  {
   "cell_type": "markdown",
   "metadata": {},
   "source": [
    "Construction from string representations in bases other than 10 is supported:"
   ]
  },
  {
   "cell_type": "code",
   "execution_count": null,
   "metadata": {},
   "outputs": [],
   "source": [
    "int_t{\"1001001\", 2} // Base 2"
   ]
  },
  {
   "cell_type": "code",
   "execution_count": null,
   "metadata": {},
   "outputs": [],
   "source": [
    "int_t{\"FFFG\", 17} // Base 17"
   ]
  },
  {
   "cell_type": "markdown",
   "metadata": {},
   "source": [
    "mp++ also provides user-defined literals. Here we use the ``_z1`` literal, which constructs integers with 1 limb of static storage from decimal, binary, octal or hexadecimal literals:"
   ]
  },
  {
   "cell_type": "code",
   "execution_count": null,
   "metadata": {},
   "outputs": [],
   "source": [
    "-101_z1 // Decimal literal"
   ]
  },
  {
   "cell_type": "code",
   "execution_count": null,
   "metadata": {},
   "outputs": [],
   "source": [
    "0b10101010_z1 // Binary literal"
   ]
  },
  {
   "cell_type": "code",
   "execution_count": null,
   "metadata": {},
   "outputs": [],
   "source": [
    "07117432_z1 // Octal literal"
   ]
  },
  {
   "cell_type": "code",
   "execution_count": null,
   "metadata": {},
   "outputs": [],
   "source": [
    "0xDEADD00D_z1 // Hex literal"
   ]
  },
  {
   "cell_type": "markdown",
   "metadata": {},
   "source": [
    "> **NOTE**: throughout these tutorials, we will almost always use the ``_z1`` literal to construct integer values.\n",
    "\n",
    "The integer class features also a couple of special constructors, such as a constructor from number of bits:"
   ]
  },
  {
   "cell_type": "code",
   "execution_count": null,
   "metadata": {},
   "outputs": [],
   "source": [
    "{\n",
    "    // n will be constructed with enough\n",
    "    // storage for a 512bit value.\n",
    "    int_t n{mppp::integer_bitcnt_t(512)};\n",
    "    \n",
    "    std::cout << \"The value of n is: \" << n << '\\n';\n",
    "    std::cout << \"The storage type of n is: \" << (n.is_static() ? \"static\" : \"dynamic\") << '\\n';\n",
    "}"
   ]
  },
  {
   "cell_type": "markdown",
   "metadata": {},
   "source": [
    "And a constructor from an array of limbs:"
   ]
  },
  {
   "cell_type": "code",
   "execution_count": null,
   "metadata": {},
   "outputs": [],
   "source": [
    "{\n",
    "    mp_limb_t arr[] = {123, 456, 789};\n",
    "    \n",
    "    int_t n{arr, 3};\n",
    "    \n",
    "    std::cout << n << '\\n';\n",
    "}"
   ]
  },
  {
   "cell_type": "markdown",
   "metadata": {},
   "source": [
    "On a 64-bit architecture, $n$ is initialised with the value $123 + 456 \\times 2^{64} + 789 \\times 2^{128}$. On a 32-bit architecture, $n$ is initialised with the value $123 + 456 \\times 2^{32} + 789 \\times 2^{64}$."
   ]
  },
  {
   "cell_type": "markdown",
   "metadata": {},
   "source": [
    "## Assigning multiprecision integers\n",
    "\n",
    "Assignment to multiprecision integers works as expected:"
   ]
  },
  {
   "cell_type": "code",
   "execution_count": null,
   "metadata": {},
   "outputs": [],
   "source": [
    "{\n",
    "    int_t n;\n",
    "    n = -46_z1;\n",
    "    std::cout << n << '\\n';\n",
    "}"
   ]
  },
  {
   "cell_type": "markdown",
   "metadata": {},
   "source": [
    "It is of course possible to assign objects of other types to an integer:"
   ]
  },
  {
   "cell_type": "code",
   "execution_count": null,
   "metadata": {},
   "outputs": [],
   "source": [
    "{\n",
    "    int_t n;\n",
    "    n = 123;\n",
    "    std::cout << n << '\\n';\n",
    "}"
   ]
  },
  {
   "cell_type": "code",
   "execution_count": null,
   "metadata": {},
   "outputs": [],
   "source": [
    "{\n",
    "    int_t n;\n",
    "    n = -456.789; // Assignment from floating-point types truncates\n",
    "    std::cout << n << '\\n';\n",
    "}"
   ]
  },
  {
   "cell_type": "code",
   "execution_count": null,
   "metadata": {},
   "outputs": [],
   "source": [
    "{\n",
    "    int_t n;\n",
    "    n = \"987654\"; // Assignment from string assumes base 10\n",
    "    std::cout << n << '\\n';\n",
    "}"
   ]
  },
  {
   "cell_type": "markdown",
   "metadata": {},
   "source": [
    "Note however that, due to language limitations, it is not possible to assign a multiprecision integer to a C++ type. As a workaround, explicit casting can be used:"
   ]
  },
  {
   "cell_type": "code",
   "execution_count": null,
   "metadata": {},
   "outputs": [],
   "source": [
    "{\n",
    "    long long n;\n",
    "    n = static_cast<long long>(42_z1);\n",
    "    std::cout << n << '\\n';\n",
    "}"
   ]
  },
  {
   "cell_type": "markdown",
   "metadata": {},
   "source": [
    "## Converting multiprecision integers\n",
    "\n",
    "We can convert multiprecision integers to other types:"
   ]
  },
  {
   "cell_type": "code",
   "execution_count": null,
   "metadata": {},
   "outputs": [],
   "source": [
    "double{123_z1} // Explicit type conversion syntax"
   ]
  },
  {
   "cell_type": "code",
   "execution_count": null,
   "metadata": {},
   "outputs": [],
   "source": [
    "static_cast<long long>(-456_z1) // static_cast syntax"
   ]
  },
  {
   "cell_type": "markdown",
   "metadata": {},
   "source": [
    "> **NOTE**: all of ``integer``'s conversion operators are ``explicit``, thus syntax such as\n",
    ">\n",
    "> ```c++\n",
    "> int n = 5_z1;\n",
    "> ```\n",
    ">\n",
    "> will **not** work. Use direct initialisation instead:\n",
    ">\n",
    "> ```c++\n",
    "> int n{5_z1};\n",
    "> ```\n",
    ">\n",
    "> Or ``auto`` (Python-style):\n",
    ">\n",
    "> ```c++\n",
    "> auto n = int{5_z1};\n",
    "> ```\n",
    "\n",
    "\n",
    "Conversion to C++ integral values will fail in case of overflow:"
   ]
  },
  {
   "cell_type": "code",
   "execution_count": null,
   "metadata": {},
   "outputs": [],
   "source": [
    "try {\n",
    "    static_cast<unsigned>(-1_z1);\n",
    "} catch (const std::overflow_error &oe) {\n",
    "    std::cerr << oe.what() << '\\n';\n",
    "}"
   ]
  },
  {
   "cell_type": "markdown",
   "metadata": {},
   "source": [
    "If exceptions are to be avoided, we can use the ``mppp::get()`` conversion function instead:"
   ]
  },
  {
   "cell_type": "code",
   "execution_count": null,
   "metadata": {},
   "outputs": [],
   "source": [
    "{\n",
    "    std::cout << std::boolalpha;\n",
    "    \n",
    "    unsigned out = 42;\n",
    "    // Attempt to convert -1 to unsigned,\n",
    "    // storing the result of the conversion\n",
    "    // in 'out'. mppp::get() will return\n",
    "    // a boolean exit status.\n",
    "    const bool res = mppp::get(out, -1_z1);\n",
    "    \n",
    "    std::cout << \"Did the conversion succeed? \" << res << '\\n';\n",
    "    std::cout << \"The value of 'out' is still \" << out << '\\n';\n",
    "}"
   ]
  },
  {
   "cell_type": "markdown",
   "metadata": {},
   "source": [
    "Conversion to floating-point types might be subject to rounding:"
   ]
  },
  {
   "cell_type": "code",
   "execution_count": null,
   "metadata": {},
   "outputs": [],
   "source": [
    "std::cout << std::setprecision(20) << float{37211191293_z1} << '\\n';"
   ]
  },
  {
   "cell_type": "markdown",
   "metadata": {},
   "source": [
    "Integers are contextually convertible to ``bool``, thus you can directly use them in ``if`` statements or in conditional operators:"
   ]
  },
  {
   "cell_type": "code",
   "execution_count": null,
   "metadata": {},
   "outputs": [],
   "source": [
    "if (1_z1) {\n",
    "    std::cout << \"1 is true\\n\";\n",
    "} else {\n",
    "    std::cout << \"1 is false\\n\";\n",
    "}"
   ]
  },
  {
   "cell_type": "code",
   "execution_count": null,
   "metadata": {},
   "outputs": [],
   "source": [
    "std::cout << \"123 is \" << (123_z1 ? \"nonzero\" : \"zero\") << '\\n';"
   ]
  }
 ],
 "metadata": {
  "kernelspec": {
   "display_name": "C++17",
   "language": "C++17",
   "name": "xcpp17"
  },
  "language_info": {
   "codemirror_mode": "text/x-c++src",
   "file_extension": ".cpp",
   "mimetype": "text/x-c++src",
   "name": "c++",
   "version": "17"
  }
 },
 "nbformat": 4,
 "nbformat_minor": 4
}
